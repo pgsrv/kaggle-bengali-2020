{
 "cells": [
  {
   "cell_type": "code",
   "execution_count": 1,
   "metadata": {},
   "outputs": [],
   "source": [
    "import sys\n",
    "sys.path.append('/home/mod/Workspace/bengali-2020')"
   ]
  },
  {
   "cell_type": "code",
   "execution_count": 2,
   "metadata": {},
   "outputs": [],
   "source": [
    "from pathlib import Path\n",
    "from bengali.dataset import BengaliDataset, get_transform\n",
    "from torch.utils.data import DataLoader, Dataset\n",
    "import pandas as pd\n",
    "import os\n",
    "import torchvision"
   ]
  },
  {
   "cell_type": "code",
   "execution_count": 3,
   "metadata": {},
   "outputs": [],
   "source": [
    "from bengali.grapheme.cutmix import cutmix, cutmix_criterion\n",
    "from bengali.mixup import mixup"
   ]
  },
  {
   "cell_type": "code",
   "execution_count": 4,
   "metadata": {},
   "outputs": [],
   "source": [
    "from bengali.grapheme.dataset import get_transform, GraphemeDataset"
   ]
  },
  {
   "cell_type": "code",
   "execution_count": 5,
   "metadata": {},
   "outputs": [],
   "source": [
    "ROOT = os.path.dirname('/home/mod/Workspace/kaggle/Bengali/')"
   ]
  },
  {
   "cell_type": "code",
   "execution_count": 6,
   "metadata": {},
   "outputs": [],
   "source": [
    "# DATA_ROOT = os.path.dirname('/home/mod/Workspace/kaggle/Bengali/grapheme-imgs-origin/')\n",
    "DATA_ROOT = os.path.dirname('/home/mod/Workspace/kaggle/Bengali/grapheme-imgs-128x128/')"
   ]
  },
  {
   "cell_type": "code",
   "execution_count": 7,
   "metadata": {},
   "outputs": [],
   "source": [
    "test_size = 128"
   ]
  },
  {
   "cell_type": "code",
   "execution_count": 8,
   "metadata": {},
   "outputs": [],
   "source": [
    "def _get_transforms(*, normalise: bool = True, train: bool):\n",
    "    test_sizes = [test_size]\n",
    "    return [\n",
    "        get_transform(\n",
    "            train=train,\n",
    "            test_size=test_size,\n",
    "            normalize=normalise,\n",
    "        ) for test_size in test_sizes]\n",
    "\n",
    "def make_test_data_loader(df):\n",
    "    return DataLoader(\n",
    "        GraphemeDataset(\n",
    "            df=df,\n",
    "            transform=_get_transforms(train=False),\n",
    "            root=DATA_ROOT,\n",
    "        ),\n",
    "        batch_size=16,\n",
    "    )\n",
    "\n",
    "def load_train_df(root: str = ROOT, train=True) -> pd.DataFrame:\n",
    "    if train:\n",
    "        df_path = os.path.join(root, 'train_debug.csv')\n",
    "    else:\n",
    "        df_path = os.path.join(root, 'test.csv')\n",
    "    return pd.read_csv(df_path)\n",
    "\n",
    "def load_train_valid_df(fold: int, task: str):\n",
    "\n",
    "    df = load_train_df()\n",
    "    if task == 'grapheme':\n",
    "        classes = int((df.nunique())[1:2])\n",
    "    else:\n",
    "        # vowel and consonant\n",
    "        classes = list(df.nunique())[2:-3]\n",
    "\n",
    "    mask = df['fold'] == fold\n",
    "    train = df[~mask]\n",
    "    valid = df[mask]\n",
    "    return train, valid, classes"
   ]
  },
  {
   "cell_type": "code",
   "execution_count": 9,
   "metadata": {},
   "outputs": [],
   "source": [
    "train_df, valid_df, classes = load_train_valid_df(0, task='grapheme')\n",
    "data_test_loader = make_test_data_loader(valid_df)\n",
    "data_train_loader = DataLoader(\n",
    "    GraphemeDataset(\n",
    "        df=train_df,\n",
    "        transform=_get_transforms(train=True),\n",
    "        root=DATA_ROOT,\n",
    "    ),\n",
    "    batch_size=16,\n",
    "    shuffle=True,\n",
    ")"
   ]
  },
  {
   "cell_type": "code",
   "execution_count": 10,
   "metadata": {},
   "outputs": [],
   "source": [
    "from tqdm import tqdm\n",
    "import torch\n",
    "import numpy as np"
   ]
  },
  {
   "cell_type": "code",
   "execution_count": 11,
   "metadata": {},
   "outputs": [],
   "source": [
    "device = torch.device('cuda' if torch.cuda.is_available() else 'cpu')"
   ]
  },
  {
   "cell_type": "code",
   "execution_count": 12,
   "metadata": {},
   "outputs": [
    {
     "name": "stderr",
     "output_type": "stream",
     "text": [
      "  0%|          | 0/1256 [00:02<?, ?it/s]\n"
     ]
    }
   ],
   "source": [
    "for idx, (input_image, label) in tqdm(\n",
    "        enumerate(data_train_loader), total=len(data_train_loader),\n",
    "):\n",
    "    orgin_img = input_image\n",
    "    input_image = input_image.to(device, dtype=torch.float)\n",
    "    grapheme_label = label.to(device, dtype=torch.long)\n",
    "\n",
    "    r = np.random.rand()\n",
    "    alpha = np.random.uniform(low=0.8, high=1.)\n",
    "\n",
    "    input_image, targets = cutmix(\n",
    "        input_image, grapheme_label, alpha=alpha,\n",
    "    )\n",
    "    break"
   ]
  },
  {
   "cell_type": "code",
   "execution_count": 13,
   "metadata": {},
   "outputs": [],
   "source": [
    "trans = torchvision.transforms.ToPILImage()"
   ]
  },
  {
   "cell_type": "code",
   "execution_count": 21,
   "metadata": {},
   "outputs": [
    {
     "data": {
      "image/png": "[encoded data removed]",
      "text/plain": [
       "<PIL.Image.Image image mode=RGB size=128x128 at 0x7F95DDE055D0>"
      ]
     },
     "execution_count": 21,
     "metadata": {},
     "output_type": "execute_result"
    }
   ],
   "source": [
    "trans(orgin_img[4])"
   ]
  },
  {
   "cell_type": "code",
   "execution_count": 22,
   "metadata": {},
   "outputs": [
    {
     "data": {
      "image/png": "[encoded data removed]",
      "text/plain": [
       "<PIL.Image.Image image mode=RGB size=128x128 at 0x7F95DDE0C350>"
      ]
     },
     "execution_count": 22,
     "metadata": {},
     "output_type": "execute_result"
    }
   ],
   "source": [
    "trans(input_image[4].cpu())"
   ]
  },
  {
   "cell_type": "code",
   "execution_count": 16,
   "metadata": {},
   "outputs": [
    {
     "data": {
      "text/plain": [
       "[tensor([107,  38,  32, 112,  95,  72, 113, 100, 101, 120, 107,  81,  61,  89,\n",
       "         122, 158], device='cuda:0'),\n",
       " tensor([122, 112, 101,  38, 158, 113,  95, 107, 100,  72,  61,  32,  81, 107,\n",
       "          89, 120], device='cuda:0'),\n",
       " 0.7113037109375]"
      ]
     },
     "execution_count": 16,
     "metadata": {},
     "output_type": "execute_result"
    }
   ],
   "source": [
    "targets"
   ]
  },
  {
   "cell_type": "code",
   "execution_count": null,
   "metadata": {},
   "outputs": [],
   "source": []
  }
 ],
 "metadata": {
  "kernelspec": {
   "display_name": "Python 3",
   "language": "python",
   "name": "python3"
  },
  "language_info": {
   "codemirror_mode": {
    "name": "ipython",
    "version": 3
   },
   "file_extension": ".py",
   "mimetype": "text/x-python",
   "name": "python",
   "nbconvert_exporter": "python",
   "pygments_lexer": "ipython3",
   "version": "3.7.4"
  }
 },
 "nbformat": 4,
 "nbformat_minor": 2
}
